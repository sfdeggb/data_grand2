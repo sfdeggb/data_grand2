{
 "cells": [
  {
   "cell_type": "code",
   "execution_count": 4,
   "metadata": {},
   "outputs": [],
   "source": [
    "import pandas as pd\n",
    "\n",
    "# User features\n",
    "users = pd.DataFrame({\n",
    "    'user_id': [1, 2, 3],\n",
    "    'age': [25, 30, 22],\n",
    "    'gender': ['M', 'F', 'M']\n",
    "})\n",
    "\n",
    "# Video features\n",
    "videos = pd.DataFrame({\n",
    "    'video_id': [101, 102, 103],\n",
    "    'category': ['comedy', 'drama', 'action'],\n",
    "    'duration': [10, 20, 15]\n",
    "})\n",
    "\n",
    "# Interaction logs\n",
    "interactions = pd.DataFrame({\n",
    "    'user_id': [1, 2, 3],\n",
    "    'video_id': [101, 102, 103],\n",
    "    'watch_time': [5, 10, 15],\n",
    "    'avg_dwell_time': [3, 7, 10]\n",
    "})\n"
   ]
  },
  {
   "cell_type": "code",
   "execution_count": 5,
   "metadata": {},
   "outputs": [
    {
     "data": {
      "text/html": [
       "<div>\n",
       "<style scoped>\n",
       "    .dataframe tbody tr th:only-of-type {\n",
       "        vertical-align: middle;\n",
       "    }\n",
       "\n",
       "    .dataframe tbody tr th {\n",
       "        vertical-align: top;\n",
       "    }\n",
       "\n",
       "    .dataframe thead th {\n",
       "        text-align: right;\n",
       "    }\n",
       "</style>\n",
       "<table border=\"1\" class=\"dataframe\">\n",
       "  <thead>\n",
       "    <tr style=\"text-align: right;\">\n",
       "      <th></th>\n",
       "      <th>user_id</th>\n",
       "      <th>video_id</th>\n",
       "      <th>watch_time</th>\n",
       "      <th>avg_dwell_time</th>\n",
       "    </tr>\n",
       "  </thead>\n",
       "  <tbody>\n",
       "    <tr>\n",
       "      <th>0</th>\n",
       "      <td>1</td>\n",
       "      <td>101</td>\n",
       "      <td>5</td>\n",
       "      <td>3</td>\n",
       "    </tr>\n",
       "    <tr>\n",
       "      <th>1</th>\n",
       "      <td>2</td>\n",
       "      <td>102</td>\n",
       "      <td>10</td>\n",
       "      <td>7</td>\n",
       "    </tr>\n",
       "    <tr>\n",
       "      <th>2</th>\n",
       "      <td>3</td>\n",
       "      <td>103</td>\n",
       "      <td>15</td>\n",
       "      <td>10</td>\n",
       "    </tr>\n",
       "  </tbody>\n",
       "</table>\n",
       "</div>"
      ],
      "text/plain": [
       "   user_id  video_id  watch_time  avg_dwell_time\n",
       "0        1       101           5               3\n",
       "1        2       102          10               7\n",
       "2        3       103          15              10"
      ]
     },
     "execution_count": 5,
     "metadata": {},
     "output_type": "execute_result"
    }
   ],
   "source": [
    "interactions"
   ]
  },
  {
   "cell_type": "code",
   "execution_count": null,
   "metadata": {},
   "outputs": [],
   "source": [
    "import tensorflow as tf\n",
    "from tensorflow.keras import layers, Model\n",
    "\n",
    "# Shared bottom layer\n",
    "def shared_bottom(input_shape):\n",
    "    inputs = layers.Input(shape=input_shape)\n",
    "    x = layers.Dense(64, activation='relu')(inputs)\n",
    "    return inputs, x\n",
    "\n",
    "# Task-specific layers\n",
    "def task_tower(shared_layer, task_name):\n",
    "    x = layers.Dense(32, activation='relu')(shared_layer)\n",
    "    outputs = layers.Dense(1, activation='sigmoid', name=task_name)(x)\n",
    "    return outputs\n",
    "\n",
    "# Constructing the PLE Model\n",
    "user_inputs = layers.Input(shape=(3,), name='user_features')  # Example size\n",
    "video_inputs = layers.Input(shape=(3,), name='video_features')\n",
    "concat_features = layers.Concatenate()([user_inputs, video_inputs])\n",
    "\n",
    "shared_inputs, shared_layer = shared_bottom(concat_features.shape[1:])\n",
    "task1_output = task_tower(shared_layer, 'task_5s_playback')\n",
    "task2_output = task_tower(shared_layer, 'task_avg_dwell_time')\n",
    "\n",
    "model = Model(inputs=[user_inputs, video_inputs], outputs=[task1_output, task2_output])\n",
    "\n",
    "# Compile and summarize the model\n",
    "model.compile(optimizer='adam',\n",
    "              loss={'task_5s_playback': 'binary_crossentropy', \n",
    "                    'task_avg_dwell_time': 'mse'},\n",
    "              metrics={'task_5s_playback': 'accuracy', \n",
    "                       'task_avg_dwell_time': 'mae'})\n",
    "model.summary()\n"
   ]
  },
  {
   "cell_type": "code",
   "execution_count": null,
   "metadata": {},
   "outputs": [],
   "source": [
    "import numpy as np\n",
    "\n",
    "# Simulated training data\n",
    "user_data = np.random.rand(100, 3)\n",
    "video_data = np.random.rand(100, 3)\n",
    "task_5s_labels = np.random.randint(2, size=(100, 1))\n",
    "task_avg_dwell_time_labels = np.random.rand(100, 1)\n",
    "\n",
    "model.fit(\n",
    "    [user_data, video_data], \n",
    "    {'task_5s_playback': task_5s_labels, 'task_avg_dwell_time': task_avg_dwell_time_labels},\n",
    "    epochs=10, batch_size=32\n",
    ")"
   ]
  }
 ],
 "metadata": {
  "kernelspec": {
   "display_name": "Python 3.9 (XPython Raw)",
   "language": "python",
   "name": "xpython-raw"
  },
  "language_info": {
   "file_extension": ".py",
   "mimetype": "text/x-python",
   "name": "python",
   "version": "3.9.6"
  }
 },
 "nbformat": 4,
 "nbformat_minor": 2
}
