{
 "cells": [
  {
   "cell_type": "code",
   "execution_count": 3,
   "metadata": {},
   "outputs": [],
   "source": [
    "import numpy as np\n",
    "import pandas as pd\n",
    "\n",
    "\n",
    "def loadData():\n",
    "    items = {\n",
    "        'A':{'Alice':'5.0','Bob':'3.0','Cathy':'2.5','Dave':'2.0'},\n",
    "        'B':{'Alice':'2.0','Bob':'2.5','Cathy':'5.0','Dave':'2.0'},\n",
    "        'C':{'Alice':'2.5','Bob':'3.0','Cathy':'2.0','Dave':'2.5'},\n",
    "        'D':{'Alice':'3.0','Bob':'4.0','Cathy':'2.5','Dave':'4.0'}\n",
    "    }\n",
    "    return items"
   ]
  },
  {
   "cell_type": "code",
   "execution_count": 4,
   "metadata": {},
   "outputs": [
    {
     "name": "stdout",
     "output_type": "stream",
     "text": [
      "{'A': {'Alice': '5.0', 'Bob': '3.0', 'Cathy': '2.5', 'Dave': '2.0'}, 'B': {'Alice': '2.0', 'Bob': '2.5', 'Cathy': '5.0', 'Dave': '2.0'}, 'C': {'Alice': '2.5', 'Bob': '3.0', 'Cathy': '2.0', 'Dave': '2.5'}, 'D': {'Alice': '3.0', 'Bob': '4.0', 'Cathy': '2.5', 'Dave': '4.0'}}\n"
     ]
    }
   ],
   "source": [
    "item_data = loadData() \n",
    "print(item_data)"
   ]
  },
  {
   "cell_type": "code",
   "execution_count": 5,
   "metadata": {},
   "outputs": [
    {
     "name": "stdout",
     "output_type": "stream",
     "text": [
      "     A    B    C    D\n",
      "A  1.0  0.0  0.0  0.0\n",
      "B  0.0  1.0  0.0  0.0\n",
      "C  0.0  0.0  1.0  0.0\n",
      "D  0.0  0.0  0.0  1.0\n"
     ]
    }
   ],
   "source": [
    "item_data = loadData()\n",
    "\n",
    "similarity_matrix = pd.DataFrame(\n",
    "    np.identity(len(item_data)),#单位矩阵\n",
    "    index = item_data.keys(),\n",
    "    columns = item_data.keys()\n",
    ")\n",
    "\n",
    "print(similarity_matrix)"
   ]
  },
  {
   "cell_type": "code",
   "execution_count": 6,
   "metadata": {},
   "outputs": [
    {
     "name": "stdout",
     "output_type": "stream",
     "text": [
      "A\n",
      "{'Alice': '5.0', 'Bob': '3.0', 'Cathy': '2.5', 'Dave': '2.0'}\n",
      "B\n",
      "{'Alice': '2.0', 'Bob': '2.5', 'Cathy': '5.0', 'Dave': '2.0'}\n",
      "C\n",
      "{'Alice': '2.5', 'Bob': '3.0', 'Cathy': '2.0', 'Dave': '2.5'}\n",
      "D\n",
      "{'Alice': '3.0', 'Bob': '4.0', 'Cathy': '2.5', 'Dave': '4.0'}\n"
     ]
    }
   ],
   "source": [
    "for i1,user1 in item_data.items():\n",
    "    print(i1)\n",
    "    print(user1)"
   ]
  },
  {
   "cell_type": "code",
   "execution_count": 13,
   "metadata": {},
   "outputs": [
    {
     "name": "stdout",
     "output_type": "stream",
     "text": [
      "[5.0, 3.0, 2.5, 2.0]\n",
      "[2.0, 2.5, 5.0, 2.0]\n",
      "(2, 2)\n",
      "[5.0, 3.0, 2.5, 2.0]\n",
      "[2.5, 3.0, 2.0, 2.5]\n",
      "(2, 2)\n",
      "[5.0, 3.0, 2.5, 2.0]\n",
      "[3.0, 4.0, 2.5, 4.0]\n",
      "(2, 2)\n",
      "[2.0, 2.5, 5.0, 2.0]\n",
      "[5.0, 3.0, 2.5, 2.0]\n",
      "(2, 2)\n",
      "[2.0, 2.5, 5.0, 2.0]\n",
      "[2.5, 3.0, 2.0, 2.5]\n",
      "(2, 2)\n",
      "[2.0, 2.5, 5.0, 2.0]\n",
      "[3.0, 4.0, 2.5, 4.0]\n",
      "(2, 2)\n",
      "[2.5, 3.0, 2.0, 2.5]\n",
      "[5.0, 3.0, 2.5, 2.0]\n",
      "(2, 2)\n",
      "[2.5, 3.0, 2.0, 2.5]\n",
      "[2.0, 2.5, 5.0, 2.0]\n",
      "(2, 2)\n",
      "[2.5, 3.0, 2.0, 2.5]\n",
      "[3.0, 4.0, 2.5, 4.0]\n",
      "(2, 2)\n",
      "[3.0, 4.0, 2.5, 4.0]\n",
      "[5.0, 3.0, 2.5, 2.0]\n",
      "(2, 2)\n",
      "[3.0, 4.0, 2.5, 4.0]\n",
      "[2.0, 2.5, 5.0, 2.0]\n",
      "(2, 2)\n",
      "[3.0, 4.0, 2.5, 4.0]\n",
      "[2.5, 3.0, 2.0, 2.5]\n",
      "(2, 2)\n",
      "          A         B         C         D\n",
      "A  1.000000 -0.341983  0.155230 -0.316862\n",
      "B -0.341983  1.000000 -0.710669 -0.715653\n",
      "C  0.155230 -0.710669  1.000000  0.816497\n",
      "D -0.316862 -0.715653  0.816497  1.000000\n"
     ]
    }
   ],
   "source": [
    "#计算相似度矩阵\n",
    "for i1,user1 in item_data.items():\n",
    "    for i2,user2 in item_data.items():\n",
    "        if i1 ==i2:\n",
    "            continue\n",
    "        vec1,vec2 = [],[]\n",
    "        for user,rating1 in user1.items():\n",
    "            rating2 = user2.get(user,-1)\n",
    "            if rating2 == -1:\n",
    "                continue\n",
    "            vec1.append(float(rating1))\n",
    "            vec2.append(float(rating2))\n",
    "        print(vec1)\n",
    "        print(vec2)\n",
    "        print(np.corrcoef(np.array(vec1),np.array(vec2),rowvar=0).shape)\n",
    "        similarity_matrix.loc[i1,i2] = np.corrcoef(np.array(vec1),\n",
    "                                                   np.array(vec2),\n",
    "                                                   rowvar=0)[0][1]#np.corrcoef返回的是一个2*2的矩阵，我们只取[0][1]\n",
    "print(similarity_matrix)      "
   ]
  },
  {
   "cell_type": "code",
   "execution_count": 12,
   "metadata": {},
   "outputs": [
    {
     "name": "stdout",
     "output_type": "stream",
     "text": [
      "[[1. 1. 1.]\n",
      " [1. 1. 1.]\n",
      " [1. 1. 1.]]\n"
     ]
    }
   ],
   "source": [
    "X = np.array([[1, 2], [3, 4], [5, 6]])\n",
    "Y = np.array([[1, 2, 3], [4, 3, 2], [5, 6, 7]])\n",
    "print(np.corrcoef(X))\n",
    "#print(np.corrcoef(X,Y))\n"
   ]
  },
  {
   "cell_type": "code",
   "execution_count": 14,
   "metadata": {},
   "outputs": [
    {
     "name": "stdout",
     "output_type": "stream",
     "text": [
      "['D', 'C', 'A', 'B']\n",
      "['D', 'C']\n"
     ]
    }
   ],
   "source": [
    "target_user = 'Alice'\n",
    "target_item = 'D'\n",
    "num = 2\n",
    "\n",
    "sim_items=[]\n",
    "sim_items_list = similarity_matrix[target_item].sort_values(ascending=False).index.tolist()\n",
    "print(sim_items_list)\n",
    "\n",
    "for item in sim_items_list:\n",
    "    if target_user in item_data[item]:\n",
    "        sim_items.append(item)\n",
    "    if len(sim_items) == num:\n",
    "        break\n",
    "print(sim_items)"
   ]
  },
  {
   "cell_type": "code",
   "execution_count": 30,
   "metadata": {},
   "outputs": [
    {
     "ename": "TypeError",
     "evalue": "'int' object is not callable",
     "output_type": "error",
     "traceback": [
      "\u001b[0;31m---------------------------------------------------------------------------\u001b[0m",
      "\u001b[0;31mTypeError\u001b[0m                                 Traceback (most recent call last)",
      "Cell \u001b[0;32mIn[30], line 3\u001b[0m\n\u001b[1;32m      1\u001b[0m temp \u001b[38;5;241m=\u001b[39m \u001b[38;5;28mlist\u001b[39m(item_data[target_item]\u001b[38;5;241m.\u001b[39mvalues())\n\u001b[0;32m----> 3\u001b[0m target_user_mean_rating \u001b[38;5;241m=\u001b[39m \u001b[38;5;28;43msum\u001b[39;49m\u001b[43m(\u001b[49m\u001b[38;5;28;43mmap\u001b[39;49m\u001b[43m(\u001b[49m\u001b[38;5;28;43mfloat\u001b[39;49m\u001b[43m,\u001b[49m\u001b[43m \u001b[49m\u001b[43mtemp\u001b[49m\u001b[43m)\u001b[49m\u001b[43m)\u001b[49m \u001b[38;5;241m/\u001b[39m \u001b[38;5;28mlen\u001b[39m(temp)\u001b[38;5;66;03m#D的平均评分\u001b[39;00m\n\u001b[1;32m      4\u001b[0m \u001b[38;5;28mprint\u001b[39m(target_user_mean_rating)\n\u001b[1;32m      5\u001b[0m weighted_scores \u001b[38;5;241m=\u001b[39m \u001b[38;5;241m0\u001b[39m\n",
      "\u001b[0;31mTypeError\u001b[0m: 'int' object is not callable"
     ]
    }
   ],
   "source": [
    "temp = list(item_data[target_item].values())\n",
    "\n",
    "target_user_mean_rating = sum(map(float, temp)) / len(temp)#D的平均评分\n",
    "print(target_user_mean_rating)\n",
    "weighted_scores = 0\n",
    "corr_values_sum = 0\n",
    "\n",
    "target_item = 'D'\n",
    "for item in sim_items:\n",
    "    corr_value = similarity_matrix.loc[target_item,item]#D和A的相似度\n",
    "    user_mean_rating = np.mean(list(item_data[item].values()))#A的平均评分\n",
    "\n",
    "    weighted_scores += corr_value * (float(item_data[item][target_user]) - user_mean_rating)#D的评分-A的平均评分\n",
    "    corr_values_sum += corr_value \n",
    "\n",
    "target_item_pred = target_user_mean_rating + weighted_scores / corr_values_sum\n",
    "\n",
    "print(f\"{target_item}的推荐得分是：{target_item_pred}\")"
   ]
  },
  {
   "cell_type": "code",
   "execution_count": null,
   "metadata": {},
   "outputs": [],
   "source": []
  }
 ],
 "metadata": {
  "kernelspec": {
   "display_name": "datagrand",
   "language": "python",
   "name": "python3"
  },
  "language_info": {
   "codemirror_mode": {
    "name": "ipython",
    "version": 3
   },
   "file_extension": ".py",
   "mimetype": "text/x-python",
   "name": "python",
   "nbconvert_exporter": "python",
   "pygments_lexer": "ipython3",
   "version": "3.11.10"
  }
 },
 "nbformat": 4,
 "nbformat_minor": 2
}
