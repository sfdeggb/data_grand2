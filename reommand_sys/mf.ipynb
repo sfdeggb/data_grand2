{
 "cells": [
  {
   "cell_type": "code",
   "execution_count": 1,
   "metadata": {},
   "outputs": [],
   "source": [
    "import random\n",
    "\n",
    "import math "
   ]
  },
  {
   "cell_type": "code",
   "execution_count": 13,
   "metadata": {},
   "outputs": [],
   "source": [
    "class BiasSVD():\n",
    "    def __init__(self,rating_data,F=5,alpha=0.1,lmbda=0.1,max_iter=100):\n",
    "        self.F = F\n",
    "        self.P =dict()#用户特征矩阵\n",
    "        self.Q = dict()#物品特征矩阵\n",
    "        self.bu = dict()#用户偏差\n",
    "        self.bi = dict()#物品偏差\n",
    "        self.mu = 0#全局偏置系数\n",
    "        self.alpha = alpha#学习率   \n",
    "        self.lmbda = lmbda#正则化系数\n",
    "        self.max_iter = max_iter#最大迭代次数\n",
    "        self.rating_data = rating_data#评分数据\n",
    "\n",
    "        for user,items  in self.rating_data.items():\n",
    "            self.P[user]  = [random.random() / math.sqrt(self.F) for x in range(0,F)]\n",
    "            self.bu[user] = 0\n",
    "            for item,rating in items.items():#遍历物品\n",
    "                if item not in self.Q:\n",
    "                    self.Q[item] = [random.random() / math.sqrt(self.F) for x in range(0,F)]\n",
    "                    self.bi[item] = 0\n",
    "        #self.mu = np.mean([rating for user,items in self.rating_data.items() for item,rating in items.items()])\n",
    "    def train(self):\n",
    "        cnt,mu_sum = 0,0 \n",
    "        for user,items in self.rating_data.items():\n",
    "            for item,rui in items.items():\n",
    "                mu_sum,cnt = mu_sum+rui,cnt+1\n",
    "        self.mu = mu_sum/cnt \n",
    "\n",
    "        for step in range(self.max_iter):\n",
    "            for user, items in self.rating_data.items():\n",
    "                for item,rui in items.items():\n",
    "                    rhat_ui = self.predict(user,item)#core\n",
    "                    e_ui  = rui-rhat_ui \n",
    "\n",
    "                    #参数更新\n",
    "                    self.bu[user]+=self.alpha*(e_ui-self.lmbda*self.bu[user]) \n",
    "                    self.bi[item]+=self.alpha*(e_ui-self.lmbda*self.bi[item])\n",
    "                    for k in range(0,self.F):\n",
    "                        self.P[user][k] += self.alpha*(e_ui-self.Q[item][k] -self.lmbda*self.P[user][k])#数学表达：\n",
    "                        self.Q[item][k] += self.alpha*(e_ui*self.P[user][k]-self.lmbda*self.Q[item][k])\n",
    "                    #逐步降低学习率\n",
    "                    self.alpha *= 0.1\n",
    "    def predict(self,user,item):\n",
    "        return sum(self.P[user][f]* self.Q[item][f] for f in range(0,self.F))+\\\n",
    "            self.bu[user]+self.bi[item]+self.mu \n"
   ]
  },
  {
   "cell_type": "code",
   "execution_count": 14,
   "metadata": {},
   "outputs": [],
   "source": [
    "def loadData():\n",
    "    rating_data={1: {'A': 5, 'B': 3, 'C': 4, 'D': 4},\n",
    "           2: {'A': 3, 'B': 1, 'C': 2, 'D': 3, 'E': 3},\n",
    "           3: {'A': 4, 'B': 3, 'C': 4, 'D': 3, 'E': 5},\n",
    "           4: {'A': 3, 'B': 3, 'C': 1, 'D': 5, 'E': 4},\n",
    "           5: {'A': 1, 'B': 5, 'C': 5, 'D': 2, 'E': 1}\n",
    "          }\n",
    "    return rating_data"
   ]
  },
  {
   "cell_type": "code",
   "execution_count": 15,
   "metadata": {},
   "outputs": [
    {
     "name": "stdout",
     "output_type": "stream",
     "text": [
      "E 3.92369735246831\n"
     ]
    }
   ],
   "source": [
    "# 加载数据\n",
    "rating_data = loadData()\n",
    "# 建立模型\n",
    "basicsvd = BiasSVD(rating_data, F=10)\n",
    "# 参数训练\n",
    "basicsvd.train()\n",
    "# 预测用户1对物品E的评分\n",
    "for item in ['E']:\n",
    "    print(item, basicsvd.predict(1, item))"
   ]
  },
  {
   "cell_type": "code",
   "execution_count": null,
   "metadata": {},
   "outputs": [],
   "source": []
  }
 ],
 "metadata": {
  "kernelspec": {
   "display_name": "datagrand",
   "language": "python",
   "name": "python3"
  },
  "language_info": {
   "codemirror_mode": {
    "name": "ipython",
    "version": 3
   },
   "file_extension": ".py",
   "mimetype": "text/x-python",
   "name": "python",
   "nbconvert_exporter": "python",
   "pygments_lexer": "ipython3",
   "version": "3.11.10"
  }
 },
 "nbformat": 4,
 "nbformat_minor": 2
}
